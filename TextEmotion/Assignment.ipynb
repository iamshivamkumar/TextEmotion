{
 "cells": [
  {
   "cell_type": "code",
   "execution_count": 2,
   "id": "b190d40f",
   "metadata": {
    "scrolled": false
   },
   "outputs": [
    {
     "data": {
      "text/plain": [
       "array(['joy', 'sadness', 'fear', ..., 'love', 'joy', 'joy'], dtype='<U8')"
      ]
     },
     "execution_count": 2,
     "metadata": {},
     "output_type": "execute_result"
    }
   ],
   "source": [
    "import nltk\n",
    "import numpy as np\n",
    "from nltk.corpus import stopwords\n",
    "from sklearn.feature_extraction.text import CountVectorizer\n",
    "from sklearn.model_selection import train_test_split\n",
    "import pandas as pd\n",
    "from sklearn.naive_bayes import MultinomialNB\n",
    "from sklearn.metrics import accuracy_score,confusion_matrix,roc_curve,classification_report\n",
    "from nltk.tokenize import RegexpTokenizer\n",
    "\n",
    "'''Reading the file'''\n",
    "df_train = pd.read_csv('train.txt', names=['Text', 'Emotion'], sep=';')\n",
    "\n",
    "'''It splits strings into tokens'''\n",
    "token = RegexpTokenizer(r'[a-zA-Z0-9]+')\n",
    "'''used to convert a collection of text documents to a vector of term/token counts.'''\n",
    "cv = CountVectorizer(stop_words='english', ngram_range=(1,1), tokenizer = token.tokenize)\n",
    "\n",
    "'''It scale's the training data and also learn the scaling parameters of that data'''\n",
    "text = cv.fit_transform(df_train['Text'])\n",
    "'''splits datas'''\n",
    "X_train, X_test, y_train, y_test = train_test_split(text,df_train['Emotion'], test_size=0.20, random_state=5)\n",
    "\n",
    "'''Naive Bayes classifier'''\n",
    "mnb = MultinomialNB()\n",
    "'''Fitting data to model'''\n",
    "mnb.fit(X_train, y_train)\n",
    "'''Predicting values'''\n",
    "ynb=mnb.predict(X_test)\n",
    "ynb"
   ]
  },
  {
   "cell_type": "code",
   "execution_count": 3,
   "id": "533e24b1",
   "metadata": {
    "scrolled": true
   },
   "outputs": [
    {
     "name": "stdout",
     "output_type": "stream",
     "text": [
      "###### confusion matrix Naive Bayes Classifier  ######\n",
      "[[ 287   13   33    0   77    1]\n",
      " [  19  245   57    1   78    2]\n",
      " [   9    7 1009    8   55    0]\n",
      " [   6    2  127   91   42    0]\n",
      " [  12    8   41    1  854    1]\n",
      " [   1   18   51    1   29   14]]\n"
     ]
    }
   ],
   "source": [
    "print('###### confusion matrix Naive Bayes Classifier  ######')\n",
    "\n",
    "cmnb = confusion_matrix(y_test, ynb)\n",
    "print(cmnb)\n",
    "\n"
   ]
  },
  {
   "cell_type": "code",
   "execution_count": 4,
   "id": "d931d1ea",
   "metadata": {},
   "outputs": [
    {
     "name": "stdout",
     "output_type": "stream",
     "text": [
      "###### classification report Naive Bayes Classifier ######\n",
      "              precision    recall  f1-score   support\n",
      "\n",
      "       anger       0.86      0.70      0.77       411\n",
      "        fear       0.84      0.61      0.71       402\n",
      "         joy       0.77      0.93      0.84      1088\n",
      "        love       0.89      0.34      0.49       268\n",
      "     sadness       0.75      0.93      0.83       917\n",
      "    surprise       0.78      0.12      0.21       114\n",
      "\n",
      "    accuracy                           0.78      3200\n",
      "   macro avg       0.81      0.60      0.64      3200\n",
      "weighted avg       0.79      0.78      0.76      3200\n",
      "\n"
     ]
    }
   ],
   "source": [
    "print('###### classification report Naive Bayes Classifier ######')\n",
    "print(classification_report(y_test, ynb))\n",
    "\n"
   ]
  },
  {
   "cell_type": "code",
   "execution_count": 5,
   "id": "a163eae3",
   "metadata": {},
   "outputs": [
    {
     "name": "stdout",
     "output_type": "stream",
     "text": [
      "Naive Bayes Classifier \n",
      "\n",
      " accuracy  : 0.78125\n",
      "\n",
      " recall  : 0.6047993742428704\n",
      "\n",
      " precision : 0.8138950548399304\n"
     ]
    }
   ],
   "source": [
    "print('Naive Bayes Classifier ')\n",
    "print('\\n accuracy  :', accuracy_score(y_test, ynb))\n",
    "\n",
    "recall = np.diag(cmnb) / np.sum(cmnb, axis = 1)\n",
    "precision = np.diag(cmnb) / np.sum(cmnb, axis = 0)\n",
    "\n",
    "print('\\n recall  :',np.mean(recall))\n",
    "print('\\n precision :',np.mean(precision))"
   ]
  },
  {
   "cell_type": "code",
   "execution_count": 6,
   "id": "97f3eaea",
   "metadata": {},
   "outputs": [],
   "source": [
    "from sklearn.linear_model import LogisticRegression\n",
    "logisticRegr = LogisticRegression(max_iter=1000)\n",
    "logisticRegr.fit(X_train, y_train)\n",
    "ylr=logisticRegr.predict(X_test)"
   ]
  },
  {
   "cell_type": "code",
   "execution_count": 7,
   "id": "95985fb6",
   "metadata": {},
   "outputs": [
    {
     "name": "stdout",
     "output_type": "stream",
     "text": [
      "###### confusion matrix Logistic regression######\n",
      "[[ 356   11   13    1   30    0]\n",
      " [  17  329   20    3   27    6]\n",
      " [   5    9 1006   38   28    2]\n",
      " [   2    2   55  205    4    0]\n",
      " [  23   14   30    3  844    3]\n",
      " [   2   19   10    2    3   78]]\n"
     ]
    }
   ],
   "source": [
    "print('###### confusion matrix Logistic regression######')\n",
    "\n",
    "cml = confusion_matrix(y_test, ylr)\n",
    "print(cml)"
   ]
  },
  {
   "cell_type": "code",
   "execution_count": 8,
   "id": "fce47ade",
   "metadata": {},
   "outputs": [
    {
     "name": "stdout",
     "output_type": "stream",
     "text": [
      "###### classification report Logistic regression######\n",
      "              precision    recall  f1-score   support\n",
      "\n",
      "       anger       0.88      0.87      0.87       411\n",
      "        fear       0.86      0.82      0.84       402\n",
      "         joy       0.89      0.92      0.91      1088\n",
      "        love       0.81      0.76      0.79       268\n",
      "     sadness       0.90      0.92      0.91       917\n",
      "    surprise       0.88      0.68      0.77       114\n",
      "\n",
      "    accuracy                           0.88      3200\n",
      "   macro avg       0.87      0.83      0.85      3200\n",
      "weighted avg       0.88      0.88      0.88      3200\n",
      "\n"
     ]
    }
   ],
   "source": [
    "print('###### classification report Logistic regression######')\n",
    "print(classification_report(y_test, ylr))"
   ]
  },
  {
   "cell_type": "code",
   "execution_count": 9,
   "id": "b9324fa3",
   "metadata": {},
   "outputs": [
    {
     "name": "stdout",
     "output_type": "stream",
     "text": [
      "Logistic regression\n",
      "\n",
      " accuracy  : 0.880625\n",
      "\n",
      " recall  : 0.8297914742944702\n",
      "\n",
      " precision : 0.8690857265090646\n"
     ]
    }
   ],
   "source": [
    "print('Logistic regression')\n",
    "print('\\n accuracy  :', accuracy_score(y_test, ylr))\n",
    "\n",
    "recall = np.diag(cml) / np.sum(cml, axis = 1)\n",
    "precision = np.diag(cml) / np.sum(cml, axis = 0)\n",
    "\n",
    "print('\\n recall  :',np.mean(recall))\n",
    "print('\\n precision :',np.mean(precision))"
   ]
  },
  {
   "cell_type": "code",
   "execution_count": 10,
   "id": "e5cb7fc1",
   "metadata": {},
   "outputs": [
    {
     "data": {
      "text/plain": [
       "array(['joy', 'sadness', 'fear', ..., 'love', 'joy', 'joy'], dtype=object)"
      ]
     },
     "execution_count": 10,
     "metadata": {},
     "output_type": "execute_result"
    }
   ],
   "source": [
    "from sklearn.ensemble import RandomForestClassifier\n",
    "clf = RandomForestClassifier()\n",
    "clf.fit(X_train, y_train)\n",
    "yrf = clf.predict(X_test)\n",
    "yrf"
   ]
  },
  {
   "cell_type": "code",
   "execution_count": 11,
   "id": "e706ff0d",
   "metadata": {},
   "outputs": [
    {
     "name": "stdout",
     "output_type": "stream",
     "text": [
      "###### confusion matrix Random Forest######\n",
      "[[367   6   9   1  27   1]\n",
      " [ 32 326   8   2  21  13]\n",
      " [ 10  12 970  54  40   2]\n",
      " [  2   1  37 223   5   0]\n",
      " [ 31  18  24   2 839   3]\n",
      " [  0  24   7   1   4  78]]\n"
     ]
    }
   ],
   "source": [
    "print('###### confusion matrix Random Forest######')\n",
    "\n",
    "cmrf = confusion_matrix(y_test, yrf)\n",
    "print(cmrf)"
   ]
  },
  {
   "cell_type": "code",
   "execution_count": 12,
   "id": "bcf0bfd5",
   "metadata": {},
   "outputs": [
    {
     "name": "stdout",
     "output_type": "stream",
     "text": [
      "###### classification report Random Forest ######\n",
      "              precision    recall  f1-score   support\n",
      "\n",
      "       anger       0.83      0.89      0.86       411\n",
      "        fear       0.84      0.81      0.83       402\n",
      "         joy       0.92      0.89      0.91      1088\n",
      "        love       0.79      0.83      0.81       268\n",
      "     sadness       0.90      0.91      0.91       917\n",
      "    surprise       0.80      0.68      0.74       114\n",
      "\n",
      "    accuracy                           0.88      3200\n",
      "   macro avg       0.85      0.84      0.84      3200\n",
      "weighted avg       0.88      0.88      0.88      3200\n",
      "\n"
     ]
    }
   ],
   "source": [
    "print('###### classification report Random Forest ######')\n",
    "print(classification_report(y_test, yrf))"
   ]
  },
  {
   "cell_type": "code",
   "execution_count": 13,
   "id": "d5e68d2e",
   "metadata": {},
   "outputs": [
    {
     "name": "stdout",
     "output_type": "stream",
     "text": [
      "Random Forest\n",
      "\n",
      " accuracy  : 0.880625\n",
      "\n",
      " recall  : 0.8377789217621977\n",
      "\n",
      " precision : 0.846767063519387\n"
     ]
    }
   ],
   "source": [
    "print('Random Forest')\n",
    "print('\\n accuracy  :', accuracy_score(y_test, ylr))\n",
    "\n",
    "recall = np.diag(cmrf) / np.sum(cmrf, axis = 1)\n",
    "precision = np.diag(cmrf) / np.sum(cmrf, axis = 0)\n",
    "\n",
    "print('\\n recall  :',np.mean(recall))\n",
    "print('\\n precision :',np.mean(precision))"
   ]
  },
  {
   "cell_type": "code",
   "execution_count": 18,
   "id": "d51c0d70",
   "metadata": {},
   "outputs": [
    {
     "data": {
      "text/plain": [
       "array(['joy', 'sadness', 'fear', ..., 'love', 'joy', 'sadness'],\n",
       "      dtype=object)"
      ]
     },
     "execution_count": 18,
     "metadata": {},
     "output_type": "execute_result"
    }
   ],
   "source": [
    "from sklearn.tree import DecisionTreeClassifier\n",
    "cdt = DecisionTreeClassifier()\n",
    "cdt.fit(X_train, y_train)\n",
    "ydt = cdt.predict(X_test)\n",
    "ydt"
   ]
  },
  {
   "cell_type": "code",
   "execution_count": 19,
   "id": "af27ed85",
   "metadata": {},
   "outputs": [
    {
     "name": "stdout",
     "output_type": "stream",
     "text": [
      "###### confusion matrix Random Forest######\n",
      "[[368  10   5   3  24   1]\n",
      " [ 27 349   4   1  13   8]\n",
      " [ 13  17 881  58 116   3]\n",
      " [  2   2  44 218   2   0]\n",
      " [ 40  22  16   5 825   9]\n",
      " [  1  20  11   1   3  78]]\n"
     ]
    }
   ],
   "source": [
    "print('###### confusion matrix Decision tree######')\n",
    "\n",
    "cmdt = confusion_matrix(y_test, ydt)\n",
    "print(cmdt)"
   ]
  },
  {
   "cell_type": "code",
   "execution_count": 20,
   "id": "07a9189a",
   "metadata": {},
   "outputs": [
    {
     "name": "stdout",
     "output_type": "stream",
     "text": [
      "###### classification report Random Forest ######\n",
      "              precision    recall  f1-score   support\n",
      "\n",
      "       anger       0.82      0.90      0.85       411\n",
      "        fear       0.83      0.87      0.85       402\n",
      "         joy       0.92      0.81      0.86      1088\n",
      "        love       0.76      0.81      0.79       268\n",
      "     sadness       0.84      0.90      0.87       917\n",
      "    surprise       0.79      0.68      0.73       114\n",
      "\n",
      "    accuracy                           0.85      3200\n",
      "   macro avg       0.83      0.83      0.83      3200\n",
      "weighted avg       0.85      0.85      0.85      3200\n",
      "\n"
     ]
    }
   ],
   "source": [
    "print('###### classification report Decision tree ######')\n",
    "print(classification_report(y_test, ydt))"
   ]
  },
  {
   "cell_type": "code",
   "execution_count": 21,
   "id": "97f96717",
   "metadata": {},
   "outputs": [
    {
     "name": "stdout",
     "output_type": "stream",
     "text": [
      "Random Forest\n",
      "\n",
      " accuracy  : 0.8496875\n",
      "\n",
      " recall  : 0.8284325313945186\n",
      "\n",
      " precision : 0.8255090640943088\n"
     ]
    }
   ],
   "source": [
    "print('Decision Tree')\n",
    "print('\\n accuracy  :', accuracy_score(y_test, ydt))\n",
    "\n",
    "recall = np.diag(cmdt) / np.sum(cmdt, axis = 1)\n",
    "precision = np.diag(cmdt) / np.sum(cmdt, axis = 0)\n",
    "\n",
    "print('\\n recall  :',np.mean(recall))\n",
    "print('\\n precision :',np.mean(precision))"
   ]
  },
  {
   "cell_type": "code",
   "execution_count": null,
   "id": "4125d03e",
   "metadata": {},
   "outputs": [],
   "source": []
  }
 ],
 "metadata": {
  "kernelspec": {
   "display_name": "Python 3",
   "language": "python",
   "name": "python3"
  },
  "language_info": {
   "codemirror_mode": {
    "name": "ipython",
    "version": 3
   },
   "file_extension": ".py",
   "mimetype": "text/x-python",
   "name": "python",
   "nbconvert_exporter": "python",
   "pygments_lexer": "ipython3",
   "version": "3.8.8"
  }
 },
 "nbformat": 4,
 "nbformat_minor": 5
}
